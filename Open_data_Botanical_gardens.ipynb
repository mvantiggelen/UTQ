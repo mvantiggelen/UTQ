{
 "cells": [
  {
   "cell_type": "markdown",
   "metadata": {},
   "source": [
    "# Opening data from the Botanical Gardens\n",
    "### In this code example, we do the following:\n",
    "\n",
    "1. Open the meteorological measurements dataset from the stations in the Botanical gardens\n",
    "1. Make a few figures with data\n",
    "1. Compare different measurements\n",
    "\n",
    "\n",
    "### To run a code block, click on a code block and press shift + enter.\n"
   ]
  },
  {
   "cell_type": "markdown",
   "metadata": {},
   "source": [
    "### First, import the necessary python packages"
   ]
  },
  {
   "cell_type": "code",
   "execution_count": null,
   "metadata": {},
   "outputs": [],
   "source": [
    "# python packages\n",
    "import os\n",
    "import glob as glob\n",
    "import pandas as pd\n",
    "import matplotlib.pyplot as plt\n",
    "\n",
    "# custom packages"
   ]
  },
  {
   "cell_type": "markdown",
   "metadata": {},
   "source": [
    "### Then, get the location of the main folder (only run this once)"
   ]
  },
  {
   "cell_type": "code",
   "execution_count": 2,
   "metadata": {},
   "outputs": [
    {
     "name": "stdout",
     "output_type": "stream",
     "text": [
      "/Users/maurice/surfdrive/04_Scripts/MAIO/MAIO\n"
     ]
    }
   ],
   "source": [
    "# Get the location of current folder \n",
    "base_dir = os.getcwd()\n",
    "print(base_dir)"
   ]
  },
  {
   "cell_type": "markdown",
   "metadata": {},
   "source": [
    "### Now we can start working with the data"
   ]
  },
  {
   "cell_type": "code",
   "execution_count": 4,
   "metadata": {},
   "outputs": [],
   "source": [
    "# Open L2 file, located in 'L2 folder'\n",
    "data_folder  = base_dir + \"/Data/\"\n",
    "os.chdir(data_folder)\n",
    "file = glob.glob('*csv')\n",
    "df = pd.read_csv(file,delimiter = ',', na_values = -999,header=0)"
   ]
  },
  {
   "cell_type": "code",
   "execution_count": null,
   "metadata": {},
   "outputs": [],
   "source": []
  }
 ],
 "metadata": {
  "kernelspec": {
   "display_name": "MAIO",
   "language": "python",
   "name": "python3"
  },
  "language_info": {
   "codemirror_mode": {
    "name": "ipython",
    "version": 3
   },
   "file_extension": ".py",
   "mimetype": "text/x-python",
   "name": "python",
   "nbconvert_exporter": "python",
   "pygments_lexer": "ipython3",
   "version": "3.9.2"
  },
  "orig_nbformat": 4
 },
 "nbformat": 4,
 "nbformat_minor": 2
}
